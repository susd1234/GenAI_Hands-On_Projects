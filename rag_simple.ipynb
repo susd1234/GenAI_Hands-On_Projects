{
 "cells": [
  {
   "cell_type": "markdown",
   "metadata": {},
   "source": [
    "# Simple RAG Implementation\n",
    "\n",
    "This notebook implements a simple Retrieval-Augmented Generation (RAG) pipeline with Locally Hosted LLM supported by Ollama:\n",
    "1. Data ingestion from PDF\n",
    "2. Chunking\n",
    "3. Embedding generation\n",
    "4. Semantic search\n",
    "5. Response generation"
   ]
  },
  {
   "cell_type": "markdown",
   "metadata": {},
   "source": [
    "## Setup and Imports"
   ]
  },
  {
   "cell_type": "code",
   "execution_count": null,
   "metadata": {},
   "outputs": [],
   "source": [
    "import fitz \n",
    "import numpy as np\n",
    "import json\n",
    "import ollama"
   ]
  },
  {
   "cell_type": "markdown",
   "metadata": {},
   "source": [
    "## 1. Data Ingestion: Extract Text from PDF"
   ]
  },
  {
   "cell_type": "code",
   "execution_count": null,
   "metadata": {},
   "outputs": [],
   "source": [
    "def extract_text_from_pdf(pdf_path):\n",
    "    \"\"\"Extract text from a PDF file.\"\"\"\n",
    "    mypdf = fitz.open(pdf_path)\n",
    "    all_text = \"\"\n",
    "    \n",
    "    for page_num in range(mypdf.page_count):\n",
    "        page = mypdf[page_num]\n",
    "        text = page.get_text(\"text\")\n",
    "        all_text += text\n",
    "        \n",
    "    return all_text\n",
    "\n",
    "# Extract text from PDF\n",
    "pdf_path = \"Your_PDF_File.pdf\"\n",
    "extracted_text = extract_text_from_pdf(pdf_path)\n",
    "print(f\"Extracted {len(extracted_text)} characters of text\")"
   ]
  },
  {
   "cell_type": "markdown",
   "metadata": {},
   "source": [
    "## 2. Text Chunking"
   ]
  },
  {
   "cell_type": "code",
   "execution_count": null,
   "metadata": {},
   "outputs": [],
   "source": [
    "def chunk_text(text, chunk_size=512, overlap=25):\n",
    "    \"\"\"Split text into overlapping chunks.\"\"\"\n",
    "    chunks = []\n",
    "    for i in range(0, len(text), chunk_size - overlap):\n",
    "        chunks.append(text[i:i + chunk_size])\n",
    "    return chunks\n",
    "\n",
    "# Create text chunks\n",
    "text_chunks = chunk_text(extracted_text)\n",
    "print(f\"Created {len(text_chunks)} text chunks\")\n",
    "print(f\"\\nSample chunk (first 200 chars):\\n{text_chunks[0][:200]}...\")"
   ]
  },
  {
   "cell_type": "markdown",
   "metadata": {},
   "source": [
    "## 3. Generate Embeddings"
   ]
  },
  {
   "cell_type": "code",
   "execution_count": null,
   "metadata": {},
   "outputs": [],
   "source": [
    "def create_embeddings(text, model=\"bge-m3\"):\n",
    "    \"\"\"Create embeddings using Ollama.\"\"\"\n",
    "    response = ollama.embeddings(\n",
    "        model=model,\n",
    "        prompt=text,\n",
    "    )\n",
    "    return response['embedding']\n",
    "\n",
    "# Generate embeddings for all chunks\n",
    "embeddings = [create_embeddings(chunk) for chunk in text_chunks]\n",
    "print(f\"Generated {len(embeddings)} embeddings\")\n",
    "print(f\"Embedding dimension: {len(embeddings[0])}\")"
   ]
  },
  {
   "cell_type": "markdown",
   "metadata": {},
   "source": [
    "## 4. Semantic Search"
   ]
  },
  {
   "cell_type": "code",
   "execution_count": null,
   "metadata": {},
   "outputs": [],
   "source": [
    "def cosine_similarity(vec1, vec2):\n",
    "    \"\"\"Calculate cosine similarity between two vectors.\"\"\"\n",
    "    return np.dot(vec1, vec2) / (np.linalg.norm(vec1) * np.linalg.norm(vec2))\n",
    "\n",
    "def semantic_search(query, text_chunks, embeddings, k=3):\n",
    "    \"\"\"Find the most relevant chunks for a query.\"\"\"\n",
    "    # Create an embedding for the query\n",
    "    query_embedding = create_embeddings(query)\n",
    "    similarity_scores = []\n",
    "    \n",
    "    # Calculate similarity scores\n",
    "    for i, chunk_embedding in enumerate(embeddings):\n",
    "        score = cosine_similarity(np.array(query_embedding), np.array(chunk_embedding))\n",
    "        similarity_scores.append((i, score))\n",
    "    \n",
    "    # Sort and get top k chunks\n",
    "    similarity_scores.sort(key=lambda x: x[1], reverse=True)\n",
    "    top_indices = [index for index, _ in similarity_scores[:k]]\n",
    "    \n",
    "    return [text_chunks[index] for index in top_indices]"
   ]
  },
  {
   "cell_type": "markdown",
   "metadata": {},
   "source": [
    "## 5. Generate Response"
   ]
  },
  {
   "cell_type": "code",
   "execution_count": null,
   "metadata": {},
   "outputs": [],
   "source": [
    "def generate_response(system_prompt, user_message, model=\"llama3.2\"):\n",
    "    \"\"\"Generate response using Ollama.\"\"\"\n",
    "    messages = [\n",
    "        {\"role\": \"system\", \"content\": system_prompt},\n",
    "        {\"role\": \"user\", \"content\": user_message}\n",
    "    ]\n",
    "    \n",
    "    response = ollama.chat(model=model, messages=messages)\n",
    "    return response['message']['content']"
   ]
  },
  {
   "cell_type": "markdown",
   "metadata": {},
   "source": [
    "## RAG Pipeline: End-to-End Example"
   ]
  },
  {
   "cell_type": "code",
   "execution_count": null,
   "metadata": {},
   "outputs": [],
   "source": [
    "# Load sample questions\n",
    "with open('data/val.json') as f:\n",
    "    data = json.load(f)\n",
    "\n",
    "# Get sample question\n",
    "query = data[0]['question']\n",
    "print(f\"Query: {query}\")\n",
    "\n",
    "# Retrieve relevant chunks\n",
    "top_chunks = semantic_search(query, text_chunks, embeddings, k=2)\n",
    "print(f\"\\nRetrieved {len(top_chunks)} relevant chunks\")\n",
    "\n",
    "# Format prompt with context\n",
    "system_prompt = \"You are an AI assistant that strictly answers based on the given context. If the answer cannot be derived directly from the provided context, respond with: 'I do not have enough information to answer that.'\"\n",
    "\n",
    "context_prompt = \"\"\n",
    "for i, chunk in enumerate(top_chunks):\n",
    "    context_prompt += f\"Context {i + 1}:\\n{chunk}\\n\" + \"=\" * 40 + \"\\n\"\n",
    "    \n",
    "user_prompt = f\"{context_prompt}\\nQuestion: {query}\"\n",
    "\n",
    "# Generate response\n",
    "ai_response = generate_response(system_prompt, user_prompt)\n",
    "print(f\"\\nAI Response:\\n{ai_response}\")"
   ]
  }
 ],
 "metadata": {
  "kernelspec": {
   "display_name": "Python 3",
   "language": "python",
   "name": "python3"
  },
  "language_info": {
   "codemirror_mode": {
    "name": "ipython",
    "version": 3
   },
   "file_extension": ".py",
   "mimetype": "text/x-python",
   "name": "python",
   "nbconvert_exporter": "python",
   "pygments_lexer": "ipython3",
   "version": "3.11.0"
  }
 },
 "nbformat": 4,
 "nbformat_minor": 2
}
